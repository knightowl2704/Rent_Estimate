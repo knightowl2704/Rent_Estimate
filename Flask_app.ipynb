{
 "cells": [
  {
   "cell_type": "code",
   "execution_count": null,
   "metadata": {
    "scrolled": true
   },
   "outputs": [
    {
     "name": "stdout",
     "output_type": "stream",
     "text": [
      " * Serving Flask app \"__main__\" (lazy loading)\n",
      " * Environment: production\n",
      "   WARNING: This is a development server. Do not use it in a production deployment.\n",
      "   Use a production WSGI server instead.\n",
      " * Debug mode: off\n"
     ]
    },
    {
     "name": "stderr",
     "output_type": "stream",
     "text": [
      " * Running on http://127.0.0.1:5000/ (Press CTRL+C to quit)\n",
      "127.0.0.1 - - [11/Jan/2020 09:34:05] \"GET / HTTP/1.1\" 200 -\n",
      "127.0.0.1 - - [11/Jan/2020 09:34:22] \"GET /api/bedrooms=4&bathrooms=3&area=Carmichael HTTP/1.1\" 200 -\n"
     ]
    },
    {
     "name": "stdout",
     "output_type": "stream",
     "text": [
      "<Response 88 bytes [200 OK]>\n"
     ]
    }
   ],
   "source": [
    "# Importing flask module in the project is mandatory \n",
    "# An object of Flask class is our WSGI application. \n",
    "from flask import Flask \n",
    "import numpy as np \n",
    "import pandas as pd\n",
    "from flask import jsonify\n",
    "from flask import render_template\n",
    "\n",
    "import pickle\n",
    "# Flask constructor takes the name of  \n",
    "# current module (__name__) as argument. \n",
    "app = Flask(__name__) \n",
    "  \n",
    "# The route() function of the Flask class is a decorator,  \n",
    "# which tells the application which URL should call  \n",
    "# the associated function. \n",
    "@app.route('/')\n",
    "def home():\n",
    "    return render_template('index.html')\n",
    "# /api/bedrooms=4&bathrooms=3&area=Carmichael\n",
    "\n",
    "@app.route('/api/bedrooms=<bedrooms>&bathrooms=<bathrooms>&area=<area>') \n",
    "def rent_estimate(bedrooms,bathrooms,area):\n",
    "    no_bathrooms = bathrooms\n",
    "    no_bedrooms = bedrooms\n",
    "    area = area\n",
    "    \n",
    "    model = pickle.load(open('pickle_model.pkl','rb'))\n",
    "    encoder = pickle.load(open('encoder.pkl','rb'))\n",
    "    minmax = pickle.load(open('minmax.pkl','rb'))\n",
    "    d = {'Bedrooms': [no_bedrooms], 'Bathrooms': [no_bathrooms]}\n",
    "    df = pd.DataFrame(data=d)\n",
    "    citytransform = encoder.transform([area])\n",
    "    citytransform = pd.DataFrame(citytransform)\n",
    "    df = pd.concat([df, citytransform], axis=1)\n",
    "    ans = model.predict(df).reshape(-1,1)\n",
    "    rent_estimate = minmax.inverse_transform(ans)[0][0]\n",
    "    response = {\n",
    "        'Bedrooms':no_bedrooms,\n",
    "        'Bathrooms':no_bathrooms,\n",
    "        'Area':area,\n",
    "        'Estimated Rent':rent_estimate\n",
    "    }\n",
    "    json_resp = jsonify(response)\n",
    "    json_resp.status_code = 200\n",
    "    print(json_resp)\n",
    "    return json_resp\n",
    "\n",
    "# main driver function \n",
    "if __name__ == '__main__': \n",
    "  \n",
    "    # run() method of Flask class runs the application  \n",
    "    # on the local development server. \n",
    "    app.run() "
   ]
  },
  {
   "cell_type": "code",
   "execution_count": null,
   "metadata": {},
   "outputs": [],
   "source": []
  },
  {
   "cell_type": "code",
   "execution_count": null,
   "metadata": {},
   "outputs": [],
   "source": []
  }
 ],
 "metadata": {
  "kernelspec": {
   "display_name": "Python 3",
   "language": "python",
   "name": "python3"
  },
  "language_info": {
   "codemirror_mode": {
    "name": "ipython",
    "version": 3
   },
   "file_extension": ".py",
   "mimetype": "text/x-python",
   "name": "python",
   "nbconvert_exporter": "python",
   "pygments_lexer": "ipython3",
   "version": "3.7.4"
  }
 },
 "nbformat": 4,
 "nbformat_minor": 2
}
